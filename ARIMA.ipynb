{
 "cells": [
  {
   "cell_type": "code",
   "execution_count": 8,
   "id": "a5c6f9d9",
   "metadata": {},
   "outputs": [],
   "source": [
    "import pandas as pd\n",
    "import statsmodels.api as sm\n",
    "from statsmodels.iolib.table import SimpleTable\n",
    "from sklearn.metrics import r2_score"
   ]
  },
  {
   "cell_type": "code",
   "execution_count": null,
   "id": "b98870a2",
   "metadata": {},
   "outputs": [],
   "source": [
    "data = {\n",
    "    'date_oper':['2009-09-01', '2009-09-02', '2009-09-03', '2009-09-04', '2009-09-05'],\n",
    "    'Otgruzka':[179667, 177670., 152112, 142938, 130741],\n",
    "    'priemka':[276712, 164999, 189181, 254581, 192486]\n",
    "}\n",
    "data = pd.DataFrame(data)\n",
    "from dateutil import parser\n",
    "from datetime import datetime\n",
    "\n",
    "for i in range(data.shape[0]):\n",
    "    data['date_oper'].iloc[i] = parser.parse(data['date_oper'].iloc[i])"
   ]
  },
  {
   "cell_type": "code",
   "execution_count": 25,
   "id": "3bb0bb37",
   "metadata": {},
   "outputs": [],
   "source": [
    "data = data.set_index('date_oper')"
   ]
  },
  {
   "cell_type": "code",
   "execution_count": 26,
   "id": "3fd79556",
   "metadata": {},
   "outputs": [
    {
     "data": {
      "text/plain": [
       "date_oper\n",
       "2009-09-01    179667.0\n",
       "2009-09-02    177670.0\n",
       "2009-09-03    152112.0\n",
       "2009-09-04    142938.0\n",
       "2009-09-05    130741.0\n",
       "Name: Otgruzka, dtype: float64"
      ]
     },
     "execution_count": 26,
     "metadata": {},
     "output_type": "execute_result"
    }
   ],
   "source": [
    "otg = data.Otgruzka\n",
    "otg.head()"
   ]
  },
  {
   "cell_type": "code",
   "execution_count": 27,
   "id": "42012cb4",
   "metadata": {},
   "outputs": [
    {
     "data": {
      "text/plain": [
       "<AxesSubplot:xlabel='date_oper'>"
      ]
     },
     "execution_count": 27,
     "metadata": {},
     "output_type": "execute_result"
    },
    {
     "data": {
      "image/png": "[encoded data removed]",
      "text/plain": [
       "<Figure size 864x432 with 1 Axes>"
      ]
     },
     "metadata": {
      "needs_background": "light"
     },
     "output_type": "display_data"
    }
   ],
   "source": [
    "otg.plot(figsize=(12,6))"
   ]
  },
  {
   "cell_type": "code",
   "execution_count": null,
   "id": "10db69e5",
   "metadata": {},
   "outputs": [],
   "source": []
  },
  {
   "cell_type": "code",
   "execution_count": null,
   "id": "84cc9001",
   "metadata": {},
   "outputs": [],
   "source": []
  },
  {
   "cell_type": "code",
   "execution_count": null,
   "id": "c469094b",
   "metadata": {},
   "outputs": [],
   "source": []
  },
  {
   "cell_type": "code",
   "execution_count": null,
   "id": "0e3c87ed",
   "metadata": {},
   "outputs": [],
   "source": []
  },
  {
   "cell_type": "code",
   "execution_count": null,
   "id": "97ee6c77",
   "metadata": {},
   "outputs": [],
   "source": []
  },
  {
   "cell_type": "code",
   "execution_count": null,
   "id": "3acb2304",
   "metadata": {},
   "outputs": [],
   "source": []
  },
  {
   "cell_type": "code",
   "execution_count": null,
   "id": "4daf113c",
   "metadata": {},
   "outputs": [],
   "source": []
  },
  {
   "cell_type": "code",
   "execution_count": null,
   "id": "261a8512",
   "metadata": {},
   "outputs": [],
   "source": []
  },
  {
   "cell_type": "code",
   "execution_count": null,
   "id": "70df5f28",
   "metadata": {},
   "outputs": [],
   "source": []
  },
  {
   "cell_type": "code",
   "execution_count": null,
   "id": "49da6882",
   "metadata": {},
   "outputs": [],
   "source": []
  },
  {
   "cell_type": "code",
   "execution_count": null,
   "id": "6003a19b",
   "metadata": {},
   "outputs": [],
   "source": []
  },
  {
   "cell_type": "code",
   "execution_count": null,
   "id": "64db33ed",
   "metadata": {},
   "outputs": [],
   "source": []
  },
  {
   "cell_type": "code",
   "execution_count": null,
   "id": "f8959d54",
   "metadata": {},
   "outputs": [],
   "source": []
  },
  {
   "cell_type": "code",
   "execution_count": null,
   "id": "0330b448",
   "metadata": {},
   "outputs": [],
   "source": []
  }
 ],
 "metadata": {
  "kernelspec": {
   "display_name": "Python 3 (ipykernel)",
   "language": "python",
   "name": "python3"
  },
  "language_info": {
   "codemirror_mode": {
    "name": "ipython",
    "version": 3
   },
   "file_extension": ".py",
   "mimetype": "text/x-python",
   "name": "python",
   "nbconvert_exporter": "python",
   "pygments_lexer": "ipython3",
   "version": "3.9.13"
  }
 },
 "nbformat": 4,
 "nbformat_minor": 5
}
